{
  "nbformat": 4,
  "nbformat_minor": 0,
  "metadata": {
    "colab": {
      "name": "PRNet.ipynb",
      "version": "0.3.2",
      "provenance": [],
      "collapsed_sections": []
    },
    "kernelspec": {
      "name": "python2",
      "display_name": "Python 2"
    },
    "accelerator": "GPU"
  },
  "cells": [
    {
      "metadata": {
        "id": "Tl21cWOltZl0",
        "colab_type": "code",
        "colab": {}
      },
      "cell_type": "code",
      "source": [
        "# install PRNet\n",
        "!git clone https://github.com/YadiraF/PRNet.git\n",
        "!pip2 install -r PRNet/requirements.txt\n",
        "\n",
        "# dirty dhack to download pretrained model (https://drive.google.com/file/d/1UoE-XuW1SDLUjZmJPkIZ1MLxvQFgmTFH/view?usp=sharing)\n",
        "!wget --save-cookies cookies.txt 'https://docs.google.com/uc?export=download&id='1UoE-XuW1SDLUjZmJPkIZ1MLxvQFgmTFH -O- | sed -rn 's/.*confirm=([0-9A-Za-z_]+).*/\\1/p' > confirm.txt\n",
        "!wget --load-cookies cookies.txt -O PRNet/Data/net-data/256_256_resfcn256_weight.data-00000-of-00001 'https://docs.google.com/uc?export=download&id='1UoE-XuW1SDLUjZmJPkIZ1MLxvQFgmTFH'&confirm='$(<confirm.txt)\n",
        "!rm -f confirm.txt cookies.txt\n",
        "\n",
        "# install dlib\n",
        "#!apt install -y cmake\n",
        "!pip install dlib\n",
        "\n",
        "# create working directory\n",
        "!mkdir /content/PRNet/results\n",
        "\n",
        "# show python version\n",
        "!python -V\n"
      ],
      "execution_count": 0,
      "outputs": []
    },
    {
      "metadata": {
        "id": "sLC7s_44uukK",
        "colab_type": "code",
        "colab": {}
      },
      "cell_type": "code",
      "source": [
        "%cd /content/PRNet/results\n",
        "\n",
        "# upload images\n",
        "from google.colab import files\n",
        "uploaded = files.upload()"
      ],
      "execution_count": 0,
      "outputs": []
    },
    {
      "metadata": {
        "id": "XeFrsDhi94ik",
        "colab_type": "code",
        "colab": {}
      },
      "cell_type": "code",
      "source": [
        "%cd /content/PRNet\n",
        "\n",
        "!rm -rf results/*.png results/*.mtl results/*.obj\n",
        "\n",
        "# Input images and Output objects go to PRNet/results\n",
        "# texture_size 256 512 1024\n",
        "!python demo.py -i results/ -o results/ --isFront True --isTexture True --texture_size 512"
      ],
      "execution_count": 0,
      "outputs": []
    },
    {
      "metadata": {
        "id": "ain1RYFurT4J",
        "colab_type": "code",
        "colab": {}
      },
      "cell_type": "code",
      "source": [
        "%cd /content/PRNet\n",
        "\n",
        "# download results\n",
        "!rm PRNet_results.zip\n",
        "!zip -r PRNet_results.zip results\n",
        "from google.colab import files\n",
        "files.download(\"/content/PRNet/PRNet_results.zip\")"
      ],
      "execution_count": 0,
      "outputs": []
    },
    {
      "metadata": {
        "id": "39_QozJnv70O",
        "colab_type": "code",
        "colab": {}
      },
      "cell_type": "code",
      "source": [
        "%cd /content/PRNet\n",
        "\n",
        "# cleanup all\n",
        "!rm -vrf results/*\n",
        "!rm -vf PRNet_results.zip"
      ],
      "execution_count": 0,
      "outputs": []
    },
    {
      "metadata": {
        "id": "4ZL6gEmYCwbm",
        "colab_type": "code",
        "colab": {}
      },
      "cell_type": "code",
      "source": [
        "%cd /content/PRNet/results\n",
        "!ls -lh"
      ],
      "execution_count": 0,
      "outputs": []
    }
  ]
}